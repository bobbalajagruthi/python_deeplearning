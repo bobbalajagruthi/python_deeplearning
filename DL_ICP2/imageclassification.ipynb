{
 "cells": [
  {
   "cell_type": "code",
   "execution_count": 2,
   "metadata": {},
   "outputs": [
    {
     "data": {
      "text/plain": [
       "Text(0.5, 1.0, 'Ground Truth : 5')"
      ]
     },
     "execution_count": 2,
     "metadata": {},
     "output_type": "execute_result"
    },
    {
     "data": {
      "image/png": "[encoded data removed]",
      "text/plain": [
       "<Figure size 432x288 with 1 Axes>"
      ]
     },
     "metadata": {
      "needs_background": "light"
     },
     "output_type": "display_data"
    }
   ],
   "source": [
    "from keras import Sequential\n",
    "from keras.datasets import mnist\n",
    "import numpy as np\n",
    "import matplotlib.pyplot as plt\n",
    "from keras.layers import Dense\n",
    "from keras.utils import to_categorical\n",
    "\n",
    "(train_images,train_labels),(test_images, test_labels) = mnist.load_data()\n",
    "#display the first image in the training data\n",
    "plt.imshow(train_images[0,:,:],cmap='gray')\n",
    "plt.title('Ground Truth : {}'.format(train_labels[0]))\n",
    "# plt.show()\n"
   ]
  },
  {
   "cell_type": "code",
   "execution_count": 3,
   "metadata": {},
   "outputs": [],
   "source": [
    "\n",
    "#process the data\n",
    "#1. convert each image of shape 28*28 to 784 dimensional which will be fed to the network as a single feature\n",
    "dimData = np.prod(train_images.shape[1:])\n",
    "train_data = train_images.reshape(train_images.shape[0],dimData)\n",
    "test_data = test_images.reshape(test_images.shape[0],dimData)\n",
    "\n"
   ]
  },
  {
   "cell_type": "code",
   "execution_count": 4,
   "metadata": {},
   "outputs": [],
   "source": [
    "#convert data to float and scale values between 0 and 1\n",
    "train_data = train_data.astype('float')\n",
    "test_data = test_data.astype('float')\n",
    "#scale data\n",
    "train_data /=255.0\n",
    "test_data /=255.0\n",
    "#change the labels frominteger to one-hot encoding\n",
    "train_labels_one_hot = to_categorical(train_labels)\n",
    "test_labels_one_hot = to_categorical(test_labels)\n"
   ]
  },
  {
   "cell_type": "code",
   "execution_count": 10,
   "metadata": {
    "scrolled": true
   },
   "outputs": [
    {
     "name": "stdout",
     "output_type": "stream",
     "text": [
      "Epoch 1/20\n",
      "235/235 [==============================] - 5s 19ms/step - loss: 0.2706 - accuracy: 0.9161 - val_loss: 0.1764 - val_accuracy: 0.9426\n",
      "Epoch 2/20\n",
      "235/235 [==============================] - 4s 17ms/step - loss: 0.0917 - accuracy: 0.9718 - val_loss: 0.1095 - val_accuracy: 0.9654\n",
      "Epoch 3/20\n",
      "235/235 [==============================] - 4s 17ms/step - loss: 0.0583 - accuracy: 0.9814 - val_loss: 0.0877 - val_accuracy: 0.9729\n",
      "Epoch 4/20\n",
      "235/235 [==============================] - 4s 17ms/step - loss: 0.0407 - accuracy: 0.9870 - val_loss: 0.0770 - val_accuracy: 0.9773\n",
      "Epoch 5/20\n",
      "235/235 [==============================] - 4s 17ms/step - loss: 0.0289 - accuracy: 0.9906 - val_loss: 0.0778 - val_accuracy: 0.9784\n",
      "Epoch 6/20\n",
      "235/235 [==============================] - 4s 18ms/step - loss: 0.0221 - accuracy: 0.9931 - val_loss: 0.0833 - val_accuracy: 0.9781\n",
      "Epoch 7/20\n",
      "235/235 [==============================] - 4s 18ms/step - loss: 0.0173 - accuracy: 0.9947 - val_loss: 0.0881 - val_accuracy: 0.9790\n",
      "Epoch 8/20\n",
      "235/235 [==============================] - 4s 18ms/step - loss: 0.0124 - accuracy: 0.9957 - val_loss: 0.1075 - val_accuracy: 0.9779\n",
      "Epoch 9/20\n",
      "235/235 [==============================] - 4s 18ms/step - loss: 0.0111 - accuracy: 0.9963 - val_loss: 0.0889 - val_accuracy: 0.9814\n",
      "Epoch 10/20\n",
      "235/235 [==============================] - 4s 18ms/step - loss: 0.0092 - accuracy: 0.9973 - val_loss: 0.1320 - val_accuracy: 0.9739\n",
      "Epoch 11/20\n",
      "235/235 [==============================] - 4s 18ms/step - loss: 0.0089 - accuracy: 0.9971 - val_loss: 0.0981 - val_accuracy: 0.9826\n",
      "Epoch 12/20\n",
      "235/235 [==============================] - 4s 18ms/step - loss: 0.0076 - accuracy: 0.9974 - val_loss: 0.0946 - val_accuracy: 0.9829\n",
      "Epoch 13/20\n",
      "235/235 [==============================] - 4s 18ms/step - loss: 0.0063 - accuracy: 0.9979 - val_loss: 0.1043 - val_accuracy: 0.9824\n",
      "Epoch 14/20\n",
      "235/235 [==============================] - 4s 19ms/step - loss: 0.0054 - accuracy: 0.9982 - val_loss: 0.1112 - val_accuracy: 0.9835\n",
      "Epoch 15/20\n",
      "235/235 [==============================] - 4s 18ms/step - loss: 0.0058 - accuracy: 0.9981 - val_loss: 0.1233 - val_accuracy: 0.9816\n",
      "Epoch 16/20\n",
      "235/235 [==============================] - 4s 18ms/step - loss: 0.0050 - accuracy: 0.9985 - val_loss: 0.1145 - val_accuracy: 0.9813\n",
      "Epoch 17/20\n",
      "235/235 [==============================] - 4s 18ms/step - loss: 0.0041 - accuracy: 0.9985 - val_loss: 0.1241 - val_accuracy: 0.9832\n",
      "Epoch 18/20\n",
      "235/235 [==============================] - 4s 18ms/step - loss: 0.0039 - accuracy: 0.9989 - val_loss: 0.1232 - val_accuracy: 0.9825\n",
      "Epoch 19/20\n",
      "235/235 [==============================] - 4s 19ms/step - loss: 0.0038 - accuracy: 0.9986 - val_loss: 0.1577 - val_accuracy: 0.9807\n",
      "Epoch 20/20\n",
      "235/235 [==============================] - 4s 18ms/step - loss: 0.0030 - accuracy: 0.9990 - val_loss: 0.1460 - val_accuracy: 0.9818\n",
      "313/313 [==============================] - 1s 2ms/step - loss: 0.1460 - accuracy: 0.9818\n"
     ]
    }
   ],
   "source": [
    "\n",
    "#creating network\n",
    "model = Sequential()\n",
    "model.add(Dense(512, activation='relu', input_shape=(dimData,)))\n",
    "model.add(Dense(512, activation='relu'))\n",
    "model.add(Dense(10, activation='softmax'))\n",
    "\n",
    "model.compile(optimizer='rmsprop', loss='categorical_crossentropy', metrics=['accuracy'])\n",
    "history = model.fit(train_data, train_labels_one_hot, batch_size=256, epochs=20, verbose=1,\n",
    "                   validation_data=(test_data, test_labels_one_hot))\n",
    "\n",
    "[test_loss, test_acc] = model.evaluate(test_data, test_labels_one_hot)\n",
    "\n"
   ]
  },
  {
   "cell_type": "code",
   "execution_count": 11,
   "metadata": {},
   "outputs": [
    {
     "name": "stdout",
     "output_type": "stream",
     "text": [
      "Evaluation result on Test Data : Loss = 0.14595501124858856, accuracy = 0.9818000197410583\n"
     ]
    }
   ],
   "source": [
    "print(\"Evaluation result on Test Data : Loss = {}, accuracy = {}\".format(test_loss, test_acc))"
   ]
  },
  {
   "cell_type": "code",
   "execution_count": 12,
   "metadata": {},
   "outputs": [
    {
     "name": "stdout",
     "output_type": "stream",
     "text": [
      "dict_keys(['loss', 'accuracy', 'val_loss', 'val_accuracy'])\n"
     ]
    }
   ],
   "source": [
    "print(history.history.keys())"
   ]
  },
  {
   "cell_type": "code",
   "execution_count": null,
   "metadata": {},
   "outputs": [],
   "source": [
    "#Plotting validation Accracy and training Accuracy"
   ]
  },
  {
   "cell_type": "code",
   "execution_count": 13,
   "metadata": {},
   "outputs": [
    {
     "data": {
      "image/png": "[encoded data removed]",
      "text/plain": [
       "<Figure size 432x288 with 1 Axes>"
      ]
     },
     "metadata": {
      "needs_background": "light"
     },
     "output_type": "display_data"
    }
   ],
   "source": [
    "plt.plot(history.history['accuracy'])\n",
    "plt.plot(history.history['val_accuracy'])\n",
    "plt.title('Accuracy Plot')\n",
    "plt.ylabel('Accuracy')\n",
    "plt.xlabel('Epoch')\n",
    "plt.legend(['train', 'validation'], loc='upper left')\n",
    "plt.show()"
   ]
  },
  {
   "cell_type": "code",
   "execution_count": null,
   "metadata": {},
   "outputs": [],
   "source": [
    "#Plotting validation Loss and training Loss"
   ]
  },
  {
   "cell_type": "code",
   "execution_count": 14,
   "metadata": {},
   "outputs": [
    {
     "data": {
      "image/png": "[encoded data removed]",
      "text/plain": [
       "<Figure size 432x288 with 1 Axes>"
      ]
     },
     "metadata": {
      "needs_background": "light"
     },
     "output_type": "display_data"
    }
   ],
   "source": [
    "plt.plot(history.history['loss'])\n",
    "plt.plot(history.history['val_loss'])\n",
    "plt.title('Loss Plot')\n",
    "plt.ylabel('Loss')\n",
    "plt.xlabel('Epoch')\n",
    "plt.legend(['train', 'validation'], loc='upper left')\n",
    "plt.show()"
   ]
  },
  {
   "cell_type": "code",
   "execution_count": null,
   "metadata": {},
   "outputs": [],
   "source": [
    "# Selecting 9th image"
   ]
  },
  {
   "cell_type": "code",
   "execution_count": 23,
   "metadata": {},
   "outputs": [
    {
     "data": {
      "text/plain": [
       "Text(0.5, 1.0, 'Ground Truth : 9')"
      ]
     },
     "execution_count": 23,
     "metadata": {},
     "output_type": "execute_result"
    },
    {
     "data": {
      "image/png": "[encoded data removed]",
      "text/plain": [
       "<Figure size 432x288 with 1 Axes>"
      ]
     },
     "metadata": {
      "needs_background": "light"
     },
     "output_type": "display_data"
    }
   ],
   "source": [
    "#display the first image in the training data\n",
    "plt.imshow(test_images[9,:,:],cmap='gray')\n",
    "plt.title('Ground Truth : {}'.format(test_labels[9]))"
   ]
  },
  {
   "cell_type": "code",
   "execution_count": null,
   "metadata": {},
   "outputs": [],
   "source": [
    "# Predicting the selected image"
   ]
  },
  {
   "cell_type": "code",
   "execution_count": 24,
   "metadata": {},
   "outputs": [
    {
     "name": "stdout",
     "output_type": "stream",
     "text": [
      "Output Predicted [9]\n"
     ]
    }
   ],
   "source": [
    "example=model.predict_classes(test_data[[9],:])\n",
    "print(\"Output Predicted\",test_labels[example])"
   ]
  },
  {
   "cell_type": "code",
   "execution_count": null,
   "metadata": {},
   "outputs": [],
   "source": [
    "# increased the number of hidden layers"
   ]
  },
  {
   "cell_type": "code",
   "execution_count": 8,
   "metadata": {
    "scrolled": true
   },
   "outputs": [
    {
     "name": "stdout",
     "output_type": "stream",
     "text": [
      "Epoch 1/20\n",
      "235/235 [==============================] - 5s 23ms/step - loss: 3.1145 - accuracy: 0.8441 - val_loss: 0.3462 - val_accuracy: 0.9039\n",
      "Epoch 2/20\n",
      "235/235 [==============================] - 5s 21ms/step - loss: 0.2014 - accuracy: 0.9458 - val_loss: 0.1730 - val_accuracy: 0.9613\n",
      "Epoch 3/20\n",
      "235/235 [==============================] - 6s 25ms/step - loss: 0.1576 - accuracy: 0.9598 - val_loss: 0.1407 - val_accuracy: 0.9646\n",
      "Epoch 4/20\n",
      "235/235 [==============================] - 6s 27ms/step - loss: 0.1369 - accuracy: 0.9664 - val_loss: 0.2267 - val_accuracy: 0.9516\n",
      "Epoch 5/20\n",
      "235/235 [==============================] - 6s 24ms/step - loss: 0.1171 - accuracy: 0.9710 - val_loss: 0.2357 - val_accuracy: 0.9643\n",
      "Epoch 6/20\n",
      "235/235 [==============================] - 6s 26ms/step - loss: 0.1027 - accuracy: 0.9752 - val_loss: 0.1872 - val_accuracy: 0.9679\n",
      "Epoch 7/20\n",
      "235/235 [==============================] - 6s 25ms/step - loss: 0.0947 - accuracy: 0.9774 - val_loss: 0.1861 - val_accuracy: 0.9682\n",
      "Epoch 8/20\n",
      "235/235 [==============================] - 6s 24ms/step - loss: 0.0884 - accuracy: 0.9803 - val_loss: 0.1348 - val_accuracy: 0.9755\n",
      "Epoch 9/20\n",
      "235/235 [==============================] - 6s 26ms/step - loss: 0.0833 - accuracy: 0.9822 - val_loss: 0.2536 - val_accuracy: 0.9712\n",
      "Epoch 10/20\n",
      "235/235 [==============================] - 6s 26ms/step - loss: 0.0808 - accuracy: 0.9825 - val_loss: 0.1566 - val_accuracy: 0.9767\n",
      "Epoch 11/20\n",
      "235/235 [==============================] - 6s 27ms/step - loss: 0.0721 - accuracy: 0.9857 - val_loss: 0.2212 - val_accuracy: 0.9653\n",
      "Epoch 12/20\n",
      "235/235 [==============================] - 7s 28ms/step - loss: 0.0720 - accuracy: 0.9861 - val_loss: 0.1980 - val_accuracy: 0.9735\n",
      "Epoch 13/20\n",
      "235/235 [==============================] - 6s 26ms/step - loss: 0.0710 - accuracy: 0.9864 - val_loss: 0.1542 - val_accuracy: 0.9785\n",
      "Epoch 14/20\n",
      "235/235 [==============================] - 6s 25ms/step - loss: 0.0672 - accuracy: 0.9879 - val_loss: 0.2067 - val_accuracy: 0.9684\n",
      "Epoch 15/20\n",
      "235/235 [==============================] - 6s 25ms/step - loss: 0.0562 - accuracy: 0.9889 - val_loss: 0.2846 - val_accuracy: 0.9686\n",
      "Epoch 16/20\n",
      "235/235 [==============================] - 6s 24ms/step - loss: 0.0595 - accuracy: 0.9895 - val_loss: 0.3487 - val_accuracy: 0.9750\n",
      "Epoch 17/20\n",
      "235/235 [==============================] - 6s 26ms/step - loss: 0.0621 - accuracy: 0.9890 - val_loss: 0.3585 - val_accuracy: 0.9719\n",
      "Epoch 18/20\n",
      "235/235 [==============================] - 6s 26ms/step - loss: 0.0658 - accuracy: 0.9902 - val_loss: 0.2830 - val_accuracy: 0.9789\n",
      "Epoch 19/20\n",
      "235/235 [==============================] - 6s 26ms/step - loss: 0.0513 - accuracy: 0.9908 - val_loss: 0.4028 - val_accuracy: 0.9730\n",
      "Epoch 20/20\n",
      "235/235 [==============================] - 7s 29ms/step - loss: 0.0554 - accuracy: 0.9909 - val_loss: 0.3746 - val_accuracy: 0.9755\n",
      "313/313 [==============================] - 1s 2ms/step - loss: 0.3746 - accuracy: 0.9755\n"
     ]
    }
   ],
   "source": [
    "\n",
    "#creating network\n",
    "model = Sequential()\n",
    "model.add(Dense(512, activation='relu', input_shape=(dimData,)))\n",
    "model.add(Dense(512, activation='relu'))\n",
    "model.add(Dense(512, activation='relu'))\n",
    "model.add(Dense(512, activation='relu'))\n",
    "model.add(Dense(10, activation='softmax'))\n",
    "\n",
    "model.compile(optimizer='rmsprop', loss='categorical_crossentropy', metrics=['accuracy'])\n",
    "history = model.fit(train_data, train_labels_one_hot, batch_size=256, epochs=20, verbose=1,\n",
    "                   validation_data=(test_data, test_labels_one_hot))\n",
    "\n",
    "[test_loss, test_acc] = model.evaluate(test_data, test_labels_one_hot)\n"
   ]
  },
  {
   "cell_type": "code",
   "execution_count": null,
   "metadata": {},
   "outputs": [],
   "source": [
    "#increased the number of hidden layers with differt dense layers"
   ]
  },
  {
   "cell_type": "code",
   "execution_count": 5,
   "metadata": {},
   "outputs": [
    {
     "name": "stdout",
     "output_type": "stream",
     "text": [
      "Epoch 1/20\n",
      "235/235 [==============================] - 9s 36ms/step - loss: 0.3553 - accuracy: 0.8928 - val_loss: 0.1423 - val_accuracy: 0.9569\n",
      "Epoch 2/20\n",
      "235/235 [==============================] - 9s 36ms/step - loss: 0.1129 - accuracy: 0.9678 - val_loss: 0.1031 - val_accuracy: 0.9694\n",
      "Epoch 3/20\n",
      "235/235 [==============================] - 8s 36ms/step - loss: 0.0726 - accuracy: 0.9779 - val_loss: 0.1692 - val_accuracy: 0.9569\n",
      "Epoch 4/20\n",
      "235/235 [==============================] - 9s 37ms/step - loss: 0.0535 - accuracy: 0.9851 - val_loss: 0.1158 - val_accuracy: 0.9716\n",
      "Epoch 5/20\n",
      "235/235 [==============================] - 9s 37ms/step - loss: 0.0444 - accuracy: 0.9872 - val_loss: 0.1072 - val_accuracy: 0.9752\n",
      "Epoch 6/20\n",
      "235/235 [==============================] - 9s 37ms/step - loss: 0.0388 - accuracy: 0.9893 - val_loss: 0.0881 - val_accuracy: 0.9806\n",
      "Epoch 7/20\n",
      "235/235 [==============================] - 9s 38ms/step - loss: 0.0324 - accuracy: 0.9914 - val_loss: 0.1916 - val_accuracy: 0.9731\n",
      "Epoch 8/20\n",
      "235/235 [==============================] - 9s 39ms/step - loss: 0.0330 - accuracy: 0.9915 - val_loss: 0.1163 - val_accuracy: 0.9801\n",
      "Epoch 9/20\n",
      "235/235 [==============================] - 9s 40ms/step - loss: 0.0304 - accuracy: 0.9927 - val_loss: 0.1319 - val_accuracy: 0.9788\n",
      "Epoch 10/20\n",
      "235/235 [==============================] - 9s 38ms/step - loss: 0.0268 - accuracy: 0.9934 - val_loss: 0.1379 - val_accuracy: 0.9793\n",
      "Epoch 11/20\n",
      "235/235 [==============================] - 9s 40ms/step - loss: 0.0284 - accuracy: 0.9937 - val_loss: 0.1339 - val_accuracy: 0.9810\n",
      "Epoch 12/20\n",
      "235/235 [==============================] - 9s 40ms/step - loss: 0.0244 - accuracy: 0.9945 - val_loss: 0.1399 - val_accuracy: 0.9804\n",
      "Epoch 13/20\n",
      "235/235 [==============================] - 9s 40ms/step - loss: 0.0240 - accuracy: 0.9947 - val_loss: 0.1702 - val_accuracy: 0.9824\n",
      "Epoch 14/20\n",
      "235/235 [==============================] - 10s 44ms/step - loss: 0.0248 - accuracy: 0.9951 - val_loss: 0.1502 - val_accuracy: 0.9819\n",
      "Epoch 15/20\n",
      "235/235 [==============================] - 9s 40ms/step - loss: 0.0211 - accuracy: 0.9957 - val_loss: 0.1541 - val_accuracy: 0.9793\n",
      "Epoch 16/20\n",
      "235/235 [==============================] - 9s 39ms/step - loss: 0.0184 - accuracy: 0.9959 - val_loss: 0.1698 - val_accuracy: 0.9754\n",
      "Epoch 17/20\n",
      "235/235 [==============================] - 10s 42ms/step - loss: 0.0209 - accuracy: 0.9955 - val_loss: 0.1483 - val_accuracy: 0.9788\n",
      "Epoch 18/20\n",
      "235/235 [==============================] - 9s 40ms/step - loss: 0.0175 - accuracy: 0.9962 - val_loss: 0.1990 - val_accuracy: 0.9752\n",
      "Epoch 19/20\n",
      "235/235 [==============================] - 10s 42ms/step - loss: 0.0177 - accuracy: 0.9963 - val_loss: 0.1255 - val_accuracy: 0.9831\n",
      "Epoch 20/20\n",
      "235/235 [==============================] - 10s 42ms/step - loss: 0.0170 - accuracy: 0.9966 - val_loss: 0.2137 - val_accuracy: 0.9819\n",
      "313/313 [==============================] - 1s 4ms/step - loss: 0.2137 - accuracy: 0.9819\n"
     ]
    }
   ],
   "source": [
    "\n",
    "#creating network\n",
    "model = Sequential()\n",
    "model.add(Dense(512, activation='relu', input_shape=(dimData,)))\n",
    "model.add(Dense(512, activation='relu'))\n",
    "model.add(Dense(1024, activation='relu'))\n",
    "model.add(Dense(1024, activation='relu'))\n",
    "model.add(Dense(10, activation='softmax'))\n",
    "\n",
    "model.compile(optimizer='rmsprop', loss='categorical_crossentropy', metrics=['accuracy'])\n",
    "history = model.fit(train_data, train_labels_one_hot, batch_size=256, epochs=20, verbose=1,\n",
    "                   validation_data=(test_data, test_labels_one_hot))\n",
    "\n",
    "[test_loss, test_acc] = model.evaluate(test_data, test_labels_one_hot)"
   ]
  },
  {
   "cell_type": "code",
   "execution_count": null,
   "metadata": {},
   "outputs": [],
   "source": [
    "#increased the number of hidden layers with differt dense layers and different activation layers"
   ]
  },
  {
   "cell_type": "code",
   "execution_count": 6,
   "metadata": {},
   "outputs": [
    {
     "name": "stdout",
     "output_type": "stream",
     "text": [
      "Epoch 1/20\n",
      "235/235 [==============================] - 9s 38ms/step - loss: 0.3635 - accuracy: 0.8883 - val_loss: 0.1556 - val_accuracy: 0.9525\n",
      "Epoch 2/20\n",
      "235/235 [==============================] - 9s 36ms/step - loss: 0.1149 - accuracy: 0.9670 - val_loss: 0.1463 - val_accuracy: 0.9556\n",
      "Epoch 3/20\n",
      "235/235 [==============================] - 9s 37ms/step - loss: 0.0736 - accuracy: 0.9777 - val_loss: 0.1267 - val_accuracy: 0.9654\n",
      "Epoch 4/20\n",
      "235/235 [==============================] - 9s 38ms/step - loss: 0.0520 - accuracy: 0.9847 - val_loss: 0.0956 - val_accuracy: 0.9743\n",
      "Epoch 5/20\n",
      "235/235 [==============================] - 10s 43ms/step - loss: 0.0403 - accuracy: 0.9879 - val_loss: 0.0961 - val_accuracy: 0.9749\n",
      "Epoch 6/20\n",
      "235/235 [==============================] - 10s 40ms/step - loss: 0.0325 - accuracy: 0.9902 - val_loss: 0.1015 - val_accuracy: 0.9757\n",
      "Epoch 7/20\n",
      "235/235 [==============================] - 10s 43ms/step - loss: 0.0256 - accuracy: 0.9921 - val_loss: 0.0894 - val_accuracy: 0.9798\n",
      "Epoch 8/20\n",
      "235/235 [==============================] - 10s 42ms/step - loss: 0.0212 - accuracy: 0.9938 - val_loss: 0.0932 - val_accuracy: 0.9807\n",
      "Epoch 9/20\n",
      "235/235 [==============================] - 9s 40ms/step - loss: 0.0180 - accuracy: 0.9944 - val_loss: 0.1120 - val_accuracy: 0.9789\n",
      "Epoch 10/20\n",
      "235/235 [==============================] - 11s 45ms/step - loss: 0.0168 - accuracy: 0.9952 - val_loss: 0.0860 - val_accuracy: 0.9816\n",
      "Epoch 11/20\n",
      "235/235 [==============================] - 10s 44ms/step - loss: 0.0144 - accuracy: 0.9955 - val_loss: 0.0894 - val_accuracy: 0.9829\n",
      "Epoch 12/20\n",
      "235/235 [==============================] - 9s 39ms/step - loss: 0.0126 - accuracy: 0.9966 - val_loss: 0.1013 - val_accuracy: 0.9814\n",
      "Epoch 13/20\n",
      "235/235 [==============================] - 9s 39ms/step - loss: 0.0130 - accuracy: 0.9966 - val_loss: 0.1042 - val_accuracy: 0.9817\n",
      "Epoch 14/20\n",
      "235/235 [==============================] - 9s 39ms/step - loss: 0.0119 - accuracy: 0.9967 - val_loss: 0.1115 - val_accuracy: 0.9804\n",
      "Epoch 15/20\n",
      "235/235 [==============================] - 9s 39ms/step - loss: 0.0101 - accuracy: 0.9972 - val_loss: 0.1172 - val_accuracy: 0.9819\n",
      "Epoch 16/20\n",
      "235/235 [==============================] - 9s 39ms/step - loss: 0.0102 - accuracy: 0.9969 - val_loss: 0.1336 - val_accuracy: 0.9797\n",
      "Epoch 17/20\n",
      "235/235 [==============================] - 9s 40ms/step - loss: 0.0089 - accuracy: 0.9977 - val_loss: 0.1100 - val_accuracy: 0.9824\n",
      "Epoch 18/20\n",
      "235/235 [==============================] - 9s 40ms/step - loss: 0.0093 - accuracy: 0.9977 - val_loss: 0.1243 - val_accuracy: 0.9808\n",
      "Epoch 19/20\n",
      "235/235 [==============================] - 9s 39ms/step - loss: 0.0087 - accuracy: 0.9977 - val_loss: 0.1338 - val_accuracy: 0.9792\n",
      "Epoch 20/20\n",
      "235/235 [==============================] - 9s 40ms/step - loss: 0.0064 - accuracy: 0.9982 - val_loss: 0.1322 - val_accuracy: 0.9825\n",
      "313/313 [==============================] - 1s 4ms/step - loss: 0.1322 - accuracy: 0.9825\n"
     ]
    }
   ],
   "source": [
    "\n",
    "#creating network\n",
    "model = Sequential()\n",
    "model.add(Dense(512, activation='relu', input_shape=(dimData,)))\n",
    "model.add(Dense(512, activation='relu'))\n",
    "model.add(Dense(1024, activation='tanh'))\n",
    "model.add(Dense(1024, activation='sigmoid'))\n",
    "model.add(Dense(10, activation='softmax'))\n",
    "\n",
    "model.compile(optimizer='rmsprop', loss='categorical_crossentropy', metrics=['accuracy'])\n",
    "history = model.fit(train_data, train_labels_one_hot, batch_size=256, epochs=20, verbose=1,\n",
    "                   validation_data=(test_data, test_labels_one_hot))\n",
    "\n",
    "[test_loss, test_acc] = model.evaluate(test_data, test_labels_one_hot)"
   ]
  },
  {
   "cell_type": "code",
   "execution_count": null,
   "metadata": {},
   "outputs": [],
   "source": [
    "#Removed the scalling and ran the code"
   ]
  },
  {
   "cell_type": "code",
   "execution_count": 7,
   "metadata": {},
   "outputs": [
    {
     "name": "stdout",
     "output_type": "stream",
     "text": [
      "Epoch 1/20\n",
      "235/235 [==============================] - 3s 12ms/step - loss: 6.8235 - accuracy: 0.8774 - val_loss: 0.5949 - val_accuracy: 0.9378\n",
      "Epoch 2/20\n",
      "235/235 [==============================] - 3s 13ms/step - loss: 0.4263 - accuracy: 0.9458 - val_loss: 0.6015 - val_accuracy: 0.9263\n",
      "Epoch 3/20\n",
      "235/235 [==============================] - 4s 16ms/step - loss: 0.2582 - accuracy: 0.9585 - val_loss: 0.3615 - val_accuracy: 0.9470\n",
      "Epoch 4/20\n",
      "235/235 [==============================] - 3s 12ms/step - loss: 0.2069 - accuracy: 0.9659 - val_loss: 0.2769 - val_accuracy: 0.9591\n",
      "Epoch 5/20\n",
      "235/235 [==============================] - 3s 11ms/step - loss: 0.1753 - accuracy: 0.9722 - val_loss: 0.3808 - val_accuracy: 0.9582\n",
      "Epoch 6/20\n",
      "235/235 [==============================] - 3s 13ms/step - loss: 0.1636 - accuracy: 0.9736 - val_loss: 0.4016 - val_accuracy: 0.9567\n",
      "Epoch 7/20\n",
      "235/235 [==============================] - 4s 17ms/step - loss: 0.1543 - accuracy: 0.9773 - val_loss: 0.3876 - val_accuracy: 0.9631\n",
      "Epoch 8/20\n",
      "235/235 [==============================] - 4s 17ms/step - loss: 0.1503 - accuracy: 0.9810 - val_loss: 0.3558 - val_accuracy: 0.9708\n",
      "Epoch 9/20\n",
      "235/235 [==============================] - 4s 15ms/step - loss: 0.1365 - accuracy: 0.9817 - val_loss: 0.5104 - val_accuracy: 0.9646\n",
      "Epoch 10/20\n",
      "235/235 [==============================] - 3s 15ms/step - loss: 0.1355 - accuracy: 0.9832 - val_loss: 0.3874 - val_accuracy: 0.9689\n",
      "Epoch 11/20\n",
      "235/235 [==============================] - 3s 15ms/step - loss: 0.1200 - accuracy: 0.9850 - val_loss: 0.3972 - val_accuracy: 0.9725\n",
      "Epoch 12/20\n",
      "235/235 [==============================] - 4s 15ms/step - loss: 0.1241 - accuracy: 0.9867 - val_loss: 0.5156 - val_accuracy: 0.9713\n",
      "Epoch 13/20\n",
      "235/235 [==============================] - 3s 15ms/step - loss: 0.1138 - accuracy: 0.9881 - val_loss: 0.5069 - val_accuracy: 0.9696\n",
      "Epoch 14/20\n",
      "235/235 [==============================] - 3s 14ms/step - loss: 0.1128 - accuracy: 0.9888 - val_loss: 0.6641 - val_accuracy: 0.9626\n",
      "Epoch 15/20\n",
      "235/235 [==============================] - 3s 14ms/step - loss: 0.1093 - accuracy: 0.9902 - val_loss: 0.5716 - val_accuracy: 0.9719\n",
      "Epoch 16/20\n",
      "235/235 [==============================] - 3s 14ms/step - loss: 0.1131 - accuracy: 0.9900 - val_loss: 0.5072 - val_accuracy: 0.9749\n",
      "Epoch 17/20\n",
      "235/235 [==============================] - 3s 14ms/step - loss: 0.1097 - accuracy: 0.9904 - val_loss: 0.5171 - val_accuracy: 0.9770\n",
      "Epoch 18/20\n",
      "235/235 [==============================] - 4s 15ms/step - loss: 0.1115 - accuracy: 0.9911 - val_loss: 0.5668 - val_accuracy: 0.9773\n",
      "Epoch 19/20\n",
      "235/235 [==============================] - 4s 16ms/step - loss: 0.1070 - accuracy: 0.9912 - val_loss: 0.6782 - val_accuracy: 0.9753\n",
      "Epoch 20/20\n",
      "235/235 [==============================] - 3s 14ms/step - loss: 0.1008 - accuracy: 0.9923 - val_loss: 0.9237 - val_accuracy: 0.9708\n",
      "313/313 [==============================] - 0s 2ms/step - loss: 0.9237 - accuracy: 0.9708\n",
      "Evaluation result on Test Data : Loss = 0.9237154126167297, accuracy = 0.97079998254776\n"
     ]
    },
    {
     "data": {
      "image/png": "[encoded data removed]",
      "text/plain": [
       "<Figure size 432x288 with 1 Axes>"
      ]
     },
     "metadata": {
      "needs_background": "light"
     },
     "output_type": "display_data"
    }
   ],
   "source": [
    "from keras import Sequential\n",
    "from keras.datasets import mnist\n",
    "import numpy as np\n",
    "import matplotlib.pyplot as plt\n",
    "from keras.layers import Dense\n",
    "from keras.utils import to_categorical\n",
    "\n",
    "(train_images,train_labels),(test_images, test_labels) = mnist.load_data()\n",
    "#display the first image in the training data\n",
    "plt.imshow(train_images[0,:,:],cmap='gray')\n",
    "plt.title('Ground Truth : {}'.format(train_labels[0]))\n",
    "# plt.show()\n",
    "\n",
    "#process the data\n",
    "#1. convert each image of shape 28*28 to 784 dimensional which will be fed to the network as a single feature\n",
    "dimData = np.prod(train_images.shape[1:])\n",
    "train_data = train_images.reshape(train_images.shape[0],dimData)\n",
    "test_data = test_images.reshape(test_images.shape[0],dimData)\n",
    "\n",
    "#convert data to float and scale values between 0 and 1\n",
    "train_data = train_data.astype('float')\n",
    "test_data = test_data.astype('float')\n",
    "#scale data\n",
    "#train_data /=255.0\n",
    "#test_data /=255.0\n",
    "#change the labels frominteger to one-hot encoding\n",
    "train_labels_one_hot = to_categorical(train_labels)\n",
    "test_labels_one_hot = to_categorical(test_labels)\n",
    "\n",
    "#creating network\n",
    "model = Sequential()\n",
    "model.add(Dense(512, activation='relu', input_shape=(dimData,)))\n",
    "model.add(Dense(512, activation='relu'))\n",
    "model.add(Dense(10, activation='softmax'))\n",
    "\n",
    "model.compile(optimizer='rmsprop', loss='categorical_crossentropy', metrics=['accuracy'])\n",
    "history = model.fit(train_data, train_labels_one_hot, batch_size=256, epochs=20, verbose=1,\n",
    "                   validation_data=(test_data, test_labels_one_hot))\n",
    "\n",
    "[test_loss, test_acc] = model.evaluate(test_data, test_labels_one_hot)\n",
    "print(\"Evaluation result on Test Data : Loss = {}, accuracy = {}\".format(test_loss, test_acc))\n"
   ]
  },
  {
   "cell_type": "code",
   "execution_count": null,
   "metadata": {},
   "outputs": [],
   "source": []
  }
 ],
 "metadata": {
  "kernelspec": {
   "display_name": "Python 3",
   "language": "python",
   "name": "python3"
  },
  "language_info": {
   "codemirror_mode": {
    "name": "ipython",
    "version": 3
   },
   "file_extension": ".py",
   "mimetype": "text/x-python",
   "name": "python",
   "nbconvert_exporter": "python",
   "pygments_lexer": "ipython3",
   "version": "3.7.6"
  }
 },
 "nbformat": 4,
 "nbformat_minor": 4
}
