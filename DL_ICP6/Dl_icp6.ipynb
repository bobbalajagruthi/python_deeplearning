{
  "nbformat": 4,
  "nbformat_minor": 0,
  "metadata": {
    "colab": {
      "name": "Untitled",
      "provenance": [],
      "collapsed_sections": []
    },
    "kernelspec": {
      "name": "python3",
      "display_name": "Python 3"
    }
  },
  "cells": [
    {
      "cell_type": "code",
      "metadata": {
        "id": "JUgo6KUo6fHP",
        "colab_type": "code",
        "colab": {
          "base_uri": "https://localhost:8080/",
          "height": 225
        },
        "outputId": "a03d6d79-e8cd-4d99-bb19-d995de71ee09"
      },
      "source": [
        "from keras.layers import Input, Dense\n",
        "from keras.models import Model\n",
        "\n",
        "# this is the size of our encoded representations\n",
        "encoding_dim = 32  # 32 floats -> compression of factor 24.5, assuming the input is 784 floats\n",
        "\n",
        "# this is our input placeholder\n",
        "input_img = Input(shape=(784,))\n",
        "# \"encoded\" is the encoded representation of the input\n",
        "encoded = Dense(encoding_dim, activation='relu')(input_img)\n",
        "# \"decoded\" is the lossy reconstruction of the input\n",
        "decoded = Dense(784, activation='sigmoid')(encoded)\n",
        "# this model maps an input to its reconstruction\n",
        "autoencoder = Model(input_img, decoded)\n",
        "# this model maps an input to its encoded representation\n",
        "autoencoder.compile(optimizer='adadelta', loss='binary_crossentropy')\n",
        "from keras.datasets import mnist, fashion_mnist\n",
        "import numpy as np\n",
        "(x_train, y_train), (x_test, y_test) = fashion_mnist.load_data()\n",
        "x_train = x_train.astype('float32') / 255.\n",
        "x_test = x_test.astype('float32') / 255.\n",
        "x_train = x_train.reshape((len(x_train), np.prod(x_train.shape[1:])))\n",
        "x_test = x_test.reshape((len(x_test), np.prod(x_test.shape[1:])))\n",
        "\n",
        "autoencoder.fit(x_train, x_train,\n",
        "                epochs=5,\n",
        "                batch_size=256,\n",
        "                shuffle=True,\n",
        "                validation_data=(x_test, x_test))\n"
      ],
      "execution_count": 6,
      "outputs": [
        {
          "output_type": "stream",
          "text": [
            "Train on 60000 samples, validate on 10000 samples\n",
            "Epoch 1/5\n",
            "60000/60000 [==============================] - 4s 61us/step - loss: 0.5325 - val_loss: 0.4670\n",
            "Epoch 2/5\n",
            "60000/60000 [==============================] - 4s 62us/step - loss: 0.4305 - val_loss: 0.4071\n",
            "Epoch 3/5\n",
            "60000/60000 [==============================] - 4s 59us/step - loss: 0.3954 - val_loss: 0.3874\n",
            "Epoch 4/5\n",
            "60000/60000 [==============================] - 4s 60us/step - loss: 0.3781 - val_loss: 0.3724\n",
            "Epoch 5/5\n",
            "60000/60000 [==============================] - 4s 61us/step - loss: 0.3643 - val_loss: 0.3601\n"
          ],
          "name": "stdout"
        },
        {
          "output_type": "execute_result",
          "data": {
            "text/plain": [
              "<keras.callbacks.callbacks.History at 0x7fb6826c2668>"
            ]
          },
          "metadata": {
            "tags": []
          },
          "execution_count": 6
        }
      ]
    },
    {
      "cell_type": "code",
      "metadata": {
        "id": "XwaU2PiV6ohg",
        "colab_type": "code",
        "colab": {}
      },
      "source": [
        "prediction = autoencoder.predict(x_test[[2],:])"
      ],
      "execution_count": 7,
      "outputs": []
    },
    {
      "cell_type": "code",
      "metadata": {
        "id": "I-n0eBUj6srH",
        "colab_type": "code",
        "colab": {
          "base_uri": "https://localhost:8080/",
          "height": 265
        },
        "outputId": "f1f887f7-1079-4d3a-e81f-cd2a5beedd58"
      },
      "source": [
        "from matplotlib import pyplot as plt\n",
        "plt.imshow(x_test[2].reshape(28,28))\n",
        "plt.show()"
      ],
      "execution_count": 8,
      "outputs": [
        {
          "output_type": "display_data",
          "data": {
            "image/png": "[encoded data removed]",
            "text/plain": [
              "<Figure size 432x288 with 1 Axes>"
            ]
          },
          "metadata": {
            "tags": [],
            "needs_background": "light"
          }
        }
      ]
    },
    {
      "cell_type": "code",
      "metadata": {
        "id": "N0SZ4sR16vCl",
        "colab_type": "code",
        "colab": {
          "base_uri": "https://localhost:8080/",
          "height": 265
        },
        "outputId": "0dafbe78-2175-4ea3-8bdd-968508367230"
      },
      "source": [
        "from matplotlib import pyplot as plt\n",
        "plt.imshow(prediction.reshape(28,28))\n",
        "plt.show()"
      ],
      "execution_count": 9,
      "outputs": [
        {
          "output_type": "display_data",
          "data": {
            "image/png": "[encoded data removed]",
            "text/plain": [
              "<Figure size 432x288 with 1 Axes>"
            ]
          },
          "metadata": {
            "tags": [],
            "needs_background": "light"
          }
        }
      ]
    },
    {
      "cell_type": "code",
      "metadata": {
        "id": "8NXBPaS87CMm",
        "colab_type": "code",
        "colab": {
          "base_uri": "https://localhost:8080/",
          "height": 399
        },
        "outputId": "ee24f7e9-2ade-446f-d6b4-cad4f552161d"
      },
      "source": [
        "encoding_dim = 32\n",
        "input_img = Input(shape=(784,))\n",
        "addedHiddenLayer1=Dense(512,activation='relu')(input_img)\n",
        "encoded = Dense(encoding_dim, activation='relu')(addedHiddenLayer1)\n",
        "addedHiddenLayer2=Dense(512,activation='relu')(encoded)\n",
        "decoded = Dense(784, activation='sigmoid')(addedHiddenLayer2)\n",
        "autoencoder_new = Model(input_img, decoded)\n",
        "autoencoder_new.compile(optimizer='adadelta', loss='binary_crossentropy', metrics=['accuracy'])\n",
        "(x_train, y_train), (x_test, y_test) = fashion_mnist.load_data()\n",
        "x_train = x_train.astype('float32') / 255.\n",
        "x_test = x_test.astype('float32') / 255.\n",
        "x_train = x_train.reshape((len(x_train), np.prod(x_train.shape[1:])))\n",
        "x_test = x_test.reshape((len(x_test), np.prod(x_test.shape[1:])))\n",
        "\n",
        "autoencoder_new.fit(x_train, x_train,\n",
        "                epochs=10,\n",
        "                batch_size=256,\n",
        "                shuffle=True,\n",
        "                validation_data=(x_test, x_test))"
      ],
      "execution_count": 10,
      "outputs": [
        {
          "output_type": "stream",
          "text": [
            "Train on 60000 samples, validate on 10000 samples\n",
            "Epoch 1/10\n",
            "60000/60000 [==============================] - 13s 219us/step - loss: 0.4766 - accuracy: 0.4657 - val_loss: 0.3926 - val_accuracy: 0.4867\n",
            "Epoch 2/10\n",
            "60000/60000 [==============================] - 13s 220us/step - loss: 0.3776 - accuracy: 0.4926 - val_loss: 0.3694 - val_accuracy: 0.4892\n",
            "Epoch 3/10\n",
            "60000/60000 [==============================] - 13s 217us/step - loss: 0.3580 - accuracy: 0.4969 - val_loss: 0.3482 - val_accuracy: 0.4956\n",
            "Epoch 4/10\n",
            "60000/60000 [==============================] - 14s 236us/step - loss: 0.3406 - accuracy: 0.5006 - val_loss: 0.3347 - val_accuracy: 0.5022\n",
            "Epoch 5/10\n",
            "60000/60000 [==============================] - 18s 292us/step - loss: 0.3298 - accuracy: 0.5022 - val_loss: 0.3255 - val_accuracy: 0.5000\n",
            "Epoch 6/10\n",
            "60000/60000 [==============================] - 15s 249us/step - loss: 0.3241 - accuracy: 0.5029 - val_loss: 0.3247 - val_accuracy: 0.5031\n",
            "Epoch 7/10\n",
            "60000/60000 [==============================] - 14s 231us/step - loss: 0.3205 - accuracy: 0.5034 - val_loss: 0.3197 - val_accuracy: 0.5006\n",
            "Epoch 8/10\n",
            "60000/60000 [==============================] - 13s 224us/step - loss: 0.3175 - accuracy: 0.5040 - val_loss: 0.3199 - val_accuracy: 0.5037\n",
            "Epoch 9/10\n",
            "60000/60000 [==============================] - 14s 229us/step - loss: 0.3148 - accuracy: 0.5044 - val_loss: 0.3165 - val_accuracy: 0.5010\n",
            "Epoch 10/10\n",
            "60000/60000 [==============================] - 13s 222us/step - loss: 0.3127 - accuracy: 0.5048 - val_loss: 0.3134 - val_accuracy: 0.5041\n"
          ],
          "name": "stdout"
        },
        {
          "output_type": "execute_result",
          "data": {
            "text/plain": [
              "<keras.callbacks.callbacks.History at 0x7fb6824bf940>"
            ]
          },
          "metadata": {
            "tags": []
          },
          "execution_count": 10
        }
      ]
    },
    {
      "cell_type": "code",
      "metadata": {
        "id": "xGdEap70FDPP",
        "colab_type": "code",
        "colab": {}
      },
      "source": [
        "# prediction on the test data\n",
        "prediction = autoencoder_new.predict(x_test[[2],:])"
      ],
      "execution_count": 11,
      "outputs": []
    },
    {
      "cell_type": "code",
      "metadata": {
        "id": "CuD6avDDFwmO",
        "colab_type": "code",
        "colab": {
          "base_uri": "https://localhost:8080/",
          "height": 265
        },
        "outputId": "bb661409-def9-43ec-f752-46524990137e"
      },
      "source": [
        "from matplotlib import pyplot as plt\n",
        "plt.imshow(x_test[2].reshape(28,28))\n",
        "plt.show()"
      ],
      "execution_count": 12,
      "outputs": [
        {
          "output_type": "display_data",
          "data": {
            "image/png": "[encoded data removed]",
            "text/plain": [
              "<Figure size 432x288 with 1 Axes>"
            ]
          },
          "metadata": {
            "tags": [],
            "needs_background": "light"
          }
        }
      ]
    },
    {
      "cell_type": "code",
      "metadata": {
        "id": "IfXwNqHaF9NR",
        "colab_type": "code",
        "colab": {
          "base_uri": "https://localhost:8080/",
          "height": 265
        },
        "outputId": "01aa2843-63e9-4b99-ac21-bee538938c05"
      },
      "source": [
        "from matplotlib import pyplot as plt\n",
        "plt.imshow(prediction.reshape(28,28))\n",
        "plt.show()"
      ],
      "execution_count": 13,
      "outputs": [
        {
          "output_type": "display_data",
          "data": {
            "image/png": "[encoded data removed]",
            "text/plain": [
              "<Figure size 432x288 with 1 Axes>"
            ]
          },
          "metadata": {
            "tags": [],
            "needs_background": "light"
          }
        }
      ]
    },
    {
      "cell_type": "code",
      "metadata": {
        "id": "Dezn2rXBGbGd",
        "colab_type": "code",
        "colab": {}
      },
      "source": [
        "\n",
        "#Adding Noises\n",
        "noise_factor = 0.5\n",
        "x_train_noisy = x_train + noise_factor * np.random.normal(loc=0.0, scale=1.0, size=x_train.shape)\n",
        "x_test_noisy = x_test + noise_factor * np.random.normal(loc=0.0, scale=1.0, size=x_test.shape)"
      ],
      "execution_count": 14,
      "outputs": []
    },
    {
      "cell_type": "code",
      "metadata": {
        "id": "GqYsq4n4GcDy",
        "colab_type": "code",
        "colab": {
          "base_uri": "https://localhost:8080/",
          "height": 381
        },
        "outputId": "00324198-9353-4e1f-87aa-78ece8eef7d7"
      },
      "source": [
        "history=autoencoder_new.fit(x_train_noisy, x_train,\n",
        "                epochs=10,\n",
        "                batch_size=256,\n",
        "                shuffle=True,\n",
        "                validation_data=(x_test_noisy, x_test_noisy))"
      ],
      "execution_count": 15,
      "outputs": [
        {
          "output_type": "stream",
          "text": [
            "Train on 60000 samples, validate on 10000 samples\n",
            "Epoch 1/10\n",
            "60000/60000 [==============================] - 14s 235us/step - loss: 0.3208 - accuracy: 0.5035 - val_loss: 0.2999 - val_accuracy: 0.0000e+00\n",
            "Epoch 2/10\n",
            "60000/60000 [==============================] - 14s 234us/step - loss: 0.3172 - accuracy: 0.5040 - val_loss: 0.2984 - val_accuracy: 0.0000e+00\n",
            "Epoch 3/10\n",
            "60000/60000 [==============================] - 13s 214us/step - loss: 0.3159 - accuracy: 0.5042 - val_loss: 0.2959 - val_accuracy: 0.0000e+00\n",
            "Epoch 4/10\n",
            "60000/60000 [==============================] - 14s 232us/step - loss: 0.3145 - accuracy: 0.5044 - val_loss: 0.2966 - val_accuracy: 0.0000e+00\n",
            "Epoch 5/10\n",
            "60000/60000 [==============================] - 14s 240us/step - loss: 0.3134 - accuracy: 0.5046 - val_loss: 0.2931 - val_accuracy: 0.0000e+00\n",
            "Epoch 6/10\n",
            "60000/60000 [==============================] - 16s 261us/step - loss: 0.3124 - accuracy: 0.5047 - val_loss: 0.2915 - val_accuracy: 0.0000e+00\n",
            "Epoch 7/10\n",
            "60000/60000 [==============================] - 13s 211us/step - loss: 0.3117 - accuracy: 0.5048 - val_loss: 0.2901 - val_accuracy: 0.0000e+00\n",
            "Epoch 8/10\n",
            "60000/60000 [==============================] - 13s 209us/step - loss: 0.3108 - accuracy: 0.5049 - val_loss: 0.2898 - val_accuracy: 0.0000e+00\n",
            "Epoch 9/10\n",
            "60000/60000 [==============================] - 13s 209us/step - loss: 0.3100 - accuracy: 0.5051 - val_loss: 0.2894 - val_accuracy: 0.0000e+00\n",
            "Epoch 10/10\n",
            "60000/60000 [==============================] - 13s 215us/step - loss: 0.3095 - accuracy: 0.5051 - val_loss: 0.2880 - val_accuracy: 0.0000e+00\n"
          ],
          "name": "stdout"
        }
      ]
    },
    {
      "cell_type": "code",
      "metadata": {
        "id": "nhzVPGuyGehB",
        "colab_type": "code",
        "colab": {
          "base_uri": "https://localhost:8080/",
          "height": 265
        },
        "outputId": "fae35e48-5677-42d7-aeed-f9082e46a7df"
      },
      "source": [
        "\n",
        "from matplotlib import pyplot as plt\n",
        "plt.imshow(x_train[3].reshape(28,28))\n",
        "plt.show()"
      ],
      "execution_count": 16,
      "outputs": [
        {
          "output_type": "display_data",
          "data": {
            "image/png": "[encoded data removed]",
            "text/plain": [
              "<Figure size 432x288 with 1 Axes>"
            ]
          },
          "metadata": {
            "tags": [],
            "needs_background": "light"
          }
        }
      ]
    },
    {
      "cell_type": "code",
      "metadata": {
        "id": "O61mIvZHGqLp",
        "colab_type": "code",
        "colab": {
          "base_uri": "https://localhost:8080/",
          "height": 265
        },
        "outputId": "19daf666-ff96-4785-e0af-485f0284176a"
      },
      "source": [
        "from matplotlib import pyplot as plt\n",
        "plt.imshow(x_train_noisy[3].reshape(28,28))\n",
        "plt.show()"
      ],
      "execution_count": 17,
      "outputs": [
        {
          "output_type": "display_data",
          "data": {
            "image/png": "[encoded data removed]",
            "text/plain": [
              "<Figure size 432x288 with 1 Axes>"
            ]
          },
          "metadata": {
            "tags": [],
            "needs_background": "light"
          }
        }
      ]
    },
    {
      "cell_type": "code",
      "metadata": {
        "id": "jE0j5SXYGt7-",
        "colab_type": "code",
        "colab": {}
      },
      "source": [
        "prediction_new = autoencoder_new.predict(x_train_noisy[1:])"
      ],
      "execution_count": 18,
      "outputs": []
    },
    {
      "cell_type": "code",
      "metadata": {
        "id": "xiMp5XxzGunm",
        "colab_type": "code",
        "colab": {
          "base_uri": "https://localhost:8080/",
          "height": 265
        },
        "outputId": "784d6dc6-6127-4eae-9b9d-da49e712add9"
      },
      "source": [
        "from matplotlib import pyplot as plt\n",
        "plt.imshow(prediction_new[0].reshape(28,28))\n",
        "plt.show()"
      ],
      "execution_count": 19,
      "outputs": [
        {
          "output_type": "display_data",
          "data": {
            "image/png": "[encoded data removed]",
            "text/plain": [
              "<Figure size 432x288 with 1 Axes>"
            ]
          },
          "metadata": {
            "tags": [],
            "needs_background": "light"
          }
        }
      ]
    },
    {
      "cell_type": "code",
      "metadata": {
        "id": "aOvnzkB4GyRr",
        "colab_type": "code",
        "colab": {
          "base_uri": "https://localhost:8080/",
          "height": 295
        },
        "outputId": "dbe5ef8a-205a-4574-a5d2-f8a9975f3bdc"
      },
      "source": [
        "import matplotlib.pyplot as plt\n",
        "plt.plot(history.history['accuracy'])\n",
        "plt.plot(history.history['loss'])\n",
        "plt.title('model accuracy vs loss')\n",
        "plt.xlabel('epoch')\n",
        "plt.legend(['accuray','loss'], loc='upper left')\n",
        "plt.show()"
      ],
      "execution_count": 20,
      "outputs": [
        {
          "output_type": "display_data",
          "data": {
            "image/png": "[encoded data removed]",
            "text/plain": [
              "<Figure size 432x288 with 1 Axes>"
            ]
          },
          "metadata": {
            "tags": [],
            "needs_background": "light"
          }
        }
      ]
    },
    {
      "cell_type": "code",
      "metadata": {
        "id": "zBV8bAvC0jX_",
        "colab_type": "code",
        "colab": {
          "base_uri": "https://localhost:8080/",
          "height": 62
        },
        "outputId": "787dae71-33e9-432c-b925-84369e5a8bad"
      },
      "source": [
        "\n",
        "input_img = Input(shape=(784,))\n",
        "encoded = Dense(32, activation='relu')(input_img)\n",
        "\n",
        "encoder = Model(input_img, encoded)\n",
        " \n",
        "encoder.compile(optimizer='adadelta', loss='binary_crossentropy',metrics=['accuracy'])\n",
        " \n",
        "(x_train, y_train), (x_test, y_test) = fashion_mnist.load_data()\n",
        "x_train = x_train.astype('float32') / 255.\n",
        "x_test = x_test.astype('float32') / 255.\n",
        "x_train = x_train.reshape((len(x_train), np.prod(x_train.shape[1:])))\n",
        "x_test = x_test.reshape((len(x_test), np.prod(x_test.shape[1:])))\n",
        " \n",
        "encoded_imgs = encoder.predict(x_test[[2],:])\n",
        " \n",
        "from matplotlib import pyplot as plt\n",
        "plt.imshow(encoded_imgs)\n",
        "plt.show()"
      ],
      "execution_count": 21,
      "outputs": [
        {
          "output_type": "display_data",
          "data": {
            "image/png": "[encoded data removed]",
            "text/plain": [
              "<Figure size 432x288 with 1 Axes>"
            ]
          },
          "metadata": {
            "tags": [],
            "needs_background": "light"
          }
        }
      ]
    }
  ]
}