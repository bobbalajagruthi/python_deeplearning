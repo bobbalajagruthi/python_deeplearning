{
 "cells": [
  {
   "cell_type": "code",
   "execution_count": 3,
   "metadata": {},
   "outputs": [],
   "source": [
    "#importing all the libraries\n",
    "from sklearn.datasets import fetch_20newsgroups\n",
    "from sklearn.feature_extraction.text import CountVectorizer, TfidfVectorizer\n",
    "from sklearn.feature_extraction.text import TfidfTransformer\n",
    "from sklearn import metrics\n",
    "from sklearn.pipeline import Pipeline\n",
    "from sklearn.naive_bayes import MultinomialNB\n"
   ]
  },
  {
   "cell_type": "code",
   "execution_count": 4,
   "metadata": {},
   "outputs": [],
   "source": [
    "# fetching the train data set\n",
    "twenty_train = fetch_20newsgroups(subset='train', shuffle=True)"
   ]
  },
  {
   "cell_type": "code",
   "execution_count": 5,
   "metadata": {},
   "outputs": [
    {
     "name": "stderr",
     "output_type": "stream",
     "text": [
      "IOPub data rate exceeded.\n",
      "The notebook server will temporarily stop sending output\n",
      "to the client in order to avoid crashing it.\n",
      "To change this limit, set the config variable\n",
      "`--NotebookApp.iopub_data_rate_limit`.\n",
      "\n",
      "Current values:\n",
      "NotebookApp.iopub_data_rate_limit=1000000.0 (bytes/sec)\n",
      "NotebookApp.rate_limit_window=3.0 (secs)\n",
      "\n"
     ]
    }
   ],
   "source": [
    "print(twenty_train)"
   ]
  },
  {
   "cell_type": "code",
   "execution_count": 6,
   "metadata": {},
   "outputs": [
    {
     "name": "stdout",
     "output_type": "stream",
     "text": [
      "0.7738980350504514\n"
     ]
    }
   ],
   "source": [
    "# fitting the data into TfidfVectorizer model\n",
    "tfidf_Vect = TfidfVectorizer()\n",
    "X_train_tfidf = tfidf_Vect.fit_transform(twenty_train.data)\n",
    "# print(tfidf_Vect.vocabulary_)\n",
    "clf = MultinomialNB()\n",
    "clf.fit(X_train_tfidf, twenty_train.target)\n",
    "\n",
    "twenty_test = fetch_20newsgroups(subset='test', shuffle=True)\n",
    "X_test_tfidf = tfidf_Vect.transform(twenty_test.data)\n",
    "\n",
    "predicted = clf.predict(X_test_tfidf)\n",
    "\n",
    "score = metrics.accuracy_score(twenty_test.target, predicted)\n",
    "\n",
    "#score for TfidfVectorizer model\n",
    "print(score)"
   ]
  },
  {
   "cell_type": "code",
   "execution_count": 7,
   "metadata": {},
   "outputs": [
    {
     "data": {
      "text/plain": [
       "0.7738980350504514"
      ]
     },
     "execution_count": 7,
     "metadata": {},
     "output_type": "execute_result"
    }
   ],
   "source": [
    "# fitting the data into SVM model\n",
    "from sklearn.svm import SVC\n",
    "svc=SVC()\n",
    "svc.fit(X_train_tfidf, twenty_train.target)\n",
    "svc_predicted = clf.predict(X_test_tfidf)\n",
    "\n",
    "#Calculating Accuracy Score for SVC\n",
    "svc_score = metrics.accuracy_score(twenty_test.target, svc_predicted)\n",
    "svc_score"
   ]
  },
  {
   "cell_type": "code",
   "execution_count": 8,
   "metadata": {},
   "outputs": [
    {
     "name": "stdout",
     "output_type": "stream",
     "text": [
      "0.7738980350504514\n"
     ]
    }
   ],
   "source": [
    "#SVC scores\n",
    "print(svc_score)"
   ]
  },
  {
   "cell_type": "code",
   "execution_count": 12,
   "metadata": {},
   "outputs": [
    {
     "name": "stdout",
     "output_type": "stream",
     "text": [
      "0.8043016463090813\n"
     ]
    }
   ],
   "source": [
    "# Accuracy changes for TfidfVectorizer\n",
    "tfidfVectorizer_bigram = TfidfVectorizer(ngram_range=(1, 2))\n",
    "X_train_tfidfVectorizer_bigram = tfidfVectorizer_bigram.fit_transform(twenty_train.data)\n",
    "X_test_TfidfVectorizer_bigram = tfidfVectorizer_bigram.transform(twenty_test.data)\n",
    "svc.fit(X_train_tfidfVectorizer_bigram, twenty_train.target)\n",
    "svc_predicted_bigram_vec = svc.predict(X_test_TfidfVectorizer_bigram)\n",
    "svc_score_bigram_vec = metrics.accuracy_score(twenty_test.target, svc_predicted_bigram_vec)\n",
    "print(svc_score_bigram_vec)"
   ]
  },
  {
   "cell_type": "code",
   "execution_count": 13,
   "metadata": {},
   "outputs": [
    {
     "name": "stdout",
     "output_type": "stream",
     "text": [
      "0.8143919277748274\n"
     ]
    }
   ],
   "source": [
    "# Accuracy score after fitting the data into TfidfVectorizer after setting argument stop_words='english'\n",
    "tfidf_Vect_stopwords = TfidfVectorizer(ngram_range=(1, 2), stop_words='english')\n",
    "X_train_tfidf_stopwords = tfidf_Vect_stopwords.fit_transform(twenty_train.data)\n",
    "X_test_tfidf_stopwords = tfidf_Vect_stopwords.transform(twenty_test.data)\n",
    "svc.fit(X_train_tfidf_stopwords,twenty_train.target)\n",
    "svc_predicted_bigram_stopword = svc.predict(X_test_tfidf_stopwords)\n",
    "svc_score_bigram_stopword = metrics.accuracy_score(twenty_test.target, svc_predicted_bigram_stopword)\n",
    "print(svc_score_bigram_stopword)"
   ]
  },
  {
   "cell_type": "code",
   "execution_count": null,
   "metadata": {},
   "outputs": [],
   "source": []
  }
 ],
 "metadata": {
  "kernelspec": {
   "display_name": "Python 3",
   "language": "python",
   "name": "python3"
  },
  "language_info": {
   "codemirror_mode": {
    "name": "ipython",
    "version": 3
   },
   "file_extension": ".py",
   "mimetype": "text/x-python",
   "name": "python",
   "nbconvert_exporter": "python",
   "pygments_lexer": "ipython3",
   "version": "3.7.6"
  }
 },
 "nbformat": 4,
 "nbformat_minor": 4
}
